{
 "cells": [
  {
   "cell_type": "markdown",
   "metadata": {},
   "source": [
    "# Distributed Analysis: A Simple Example"
   ]
  },
  {
   "cell_type": "code",
   "execution_count": 1,
   "metadata": {
    "collapsed": false,
    "trusted": true
   },
   "outputs": [
    {
     "name": "stderr",
     "output_type": "stream",
     "text": [
      "INFO:rootpy.plotting.style:using ROOT style 'ATLAS'\n"
     ]
    }
   ],
   "source": [
    "# Required imports and setup\n",
    "from rootpy.plotting import Hist, Canvas, set_style\n",
    "import rootpy.plotting.root2matplotlib as rplt\n",
    "from root_numpy import array2hist\n",
    "from IPython.parallel import Client\n",
    "\n",
    "client = Client('ipcontroller-client.json', sshserver=\"--redacted--.unimelb.edu.au\")\n",
    "set_style('ATLAS')"
   ]
  },
  {
   "cell_type": "code",
   "execution_count": 2,
   "metadata": {
    "collapsed": false,
    "trusted": true
   },
   "outputs": [
    {
     "data": {
      "text/plain": [
       "['Hello world!', 'Hello world!', 'Hello world!']"
      ]
     },
     "execution_count": 2,
     "metadata": {},
     "output_type": "execute_result"
    }
   ],
   "source": [
    "# check that the cluster is up and running (expect a response from three laptops)\n",
    "client[:].apply_sync(lambda: \"Hello world!\")"
   ]
  },
  {
   "cell_type": "markdown",
   "metadata": {},
   "source": [
    "## Write the analysis code\n",
    "\n",
    "Loop on CMS dimuon events in a CSV file and calculate the dimuon invariant mass. These events were extracted from the CMS Mu Primary Dataset on the CERN Open Data Portal: http://opendata.cern.ch/record/14. Thanks to http://openstack.cern.ch for providing a CernVM running SL5 where I could set up CMSSW 4.2.8 and to https://github.com/tpmccauley/dimuon-filter for generating the CSV from CMS AODs."
   ]
  },
  {
   "cell_type": "code",
   "execution_count": 3,
   "metadata": {
    "collapsed": true,
    "trusted": true
   },
   "outputs": [],
   "source": [
    "def analysis(filename):\n",
    "    import csv\n",
    "    from math import sqrt\n",
    "    from rootpy.plotting import Hist\n",
    "    from root_numpy import hist2array\n",
    "\n",
    "    h = Hist(1500, 0.5, 120)\n",
    "\n",
    "    with open(filename, 'rb') as csvfile:\n",
    "        reader = csv.reader(csvfile, delimiter=',')\n",
    "        header = reader.next()\n",
    "        column = dict([(header[i], i) for i in range(len(header))])\n",
    "\n",
    "        for row in reader:\n",
    "            charge1 = int(row[column['Q1']])\n",
    "            charge2 = int(row[column['Q2']])\n",
    "            opposite_charge = charge1 * charge2 == -1\n",
    "            if not opposite_charge:\n",
    "                continue\n",
    "\n",
    "            E1 = float(row[column['E1']])\n",
    "            px1 = float(row[column['px1']])\n",
    "            py1 = float(row[column['py1']])\n",
    "            pz1 = float(row[column['pz1']])\n",
    "\n",
    "            E2 = float(row[column['E2']])\n",
    "            px2 = float(row[column['px2']])\n",
    "            py2 = float(row[column['py2']])\n",
    "            pz2 = float(row[column['pz2']])\n",
    "\n",
    "            E = E1 + E2\n",
    "            px = px1 + px2\n",
    "            py = py1 + py2\n",
    "            pz = pz1 + pz2\n",
    "            m2 = E**2 - (px**2 + py**2 + pz**2)\n",
    "            if m2 < 0:\n",
    "                # Bad event...\n",
    "                continue\n",
    "            h.Fill(sqrt(m2))\n",
    "            \n",
    "    # Return the ROOT histogram as a numpy array\n",
    "    return hist2array(h)"
   ]
  },
  {
   "cell_type": "code",
   "execution_count": 4,
   "metadata": {
    "collapsed": true,
    "trusted": true
   },
   "outputs": [],
   "source": [
    "def plot(arrays, hist):\n",
    "    # sum the histograms from each worker\n",
    "    total_hist = sum([array2hist(array, hist.Clone()) for array in arrays])\n",
    "    # plot!\n",
    "    canvas = Canvas()\n",
    "    canvas.SetLogy()\n",
    "    canvas.SetLogx()\n",
    "    total_hist.xaxis.title = 'M_{#mu#mu} [GeV]'\n",
    "    total_hist.yaxis.title = 'Events'\n",
    "    total_hist.Draw('hist')\n",
    "    return canvas"
   ]
  },
  {
   "cell_type": "markdown",
   "metadata": {},
   "source": [
    "## Execute the analysis on a single local core\n\nRun our analysis function on the full CSV file on a single core of this computer."
   ]
  },
  {
   "cell_type": "code",
   "execution_count": 5,
   "metadata": {
    "scrolled": true,
    "collapsed": false,
    "trusted": true
   },
   "outputs": [
    {
     "name": "stdout",
     "output_type": "stream",
     "text": [
      "CPU times: user 1min 25s, sys: 2.18 s, total: 1min 27s\nWall time: 1min 28s\n"
     ]
    }
   ],
   "source": [
    "%time local_array = analysis('MuRun2010B.csv')"
   ]
  },
  {
   "cell_type": "markdown",
   "metadata": {},
   "source": [
    "That took about 1.5 minutes... Looking at the plot of the dimuon invariant mass below, we see the usual suspects. How many can you name?"
   ]
  },
  {
   "cell_type": "code",
   "execution_count": 6,
   "metadata": {
    "collapsed": false,
    "trusted": true
   },
   "outputs": [
    {
     "data": {
      "image/png": "[encoded data removed]",
      "text/plain": [
       "Canvas('Canvas_fE5xAA8aD5gT76rL4vUFX9')"
      ]
     },
     "execution_count": 6,
     "metadata": {},
     "output_type": "execute_result"
    }
   ],
   "source": [
    "plot([local_array], Hist(1500, 0.5, 120))"
   ]
  },
  {
   "cell_type": "markdown",
   "metadata": {},
   "source": [
    "## Distributed execution\n\nNow let's dispatch the analysis function to three worker laptops that each hold one-third of the full CSV file."
   ]
  },
  {
   "cell_type": "code",
   "execution_count": 7,
   "metadata": {
    "collapsed": false,
    "trusted": true
   },
   "outputs": [
    {
     "name": "stdout",
     "output_type": "stream",
     "text": [
      "CPU times: user 5.84 s, sys: 416 ms, total: 6.25 s\nWall time: 31.4 s\n"
     ]
    }
   ],
   "source": [
    "%time arrays = client[:].apply_sync(analysis, 'events.csv')"
   ]
  },
  {
   "cell_type": "markdown",
   "metadata": {},
   "source": [
    "That took about 30 seconds. That's three times as fast as the local execution above. Of course we should expect the same plot shown below:"
   ]
  },
  {
   "cell_type": "code",
   "execution_count": 8,
   "metadata": {
    "collapsed": false,
    "trusted": true
   },
   "outputs": [
    {
     "data": {
      "image/png": "[encoded data removed]",
      "text/plain": [
       "Canvas('Canvas_VjvG2k6AnmTnXht4Pwnsx3')"
      ]
     },
     "execution_count": 8,
     "metadata": {},
     "output_type": "execute_result"
    }
   ],
   "source": [
    "plot(arrays, Hist(1500, 0.5, 120))"
   ]
  }
 ],
 "metadata": {
  "kernelspec": {
   "display_name": "Python 2",
   "name": "python2",
   "language": "python"
  },
  "language_info": {
   "mimetype": "text/x-python",
   "nbconvert_exporter": "python",
   "version": "2.7.9",
   "name": "python",
   "file_extension": ".py",
   "pygments_lexer": "ipython2",
   "codemirror_mode": {
    "version": 2.0,
    "name": "ipython"
   }
  }
 },
 "nbformat": 4,
 "nbformat_minor": 0
}